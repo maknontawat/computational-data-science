{
 "cells": [
  {
   "cell_type": "code",
   "execution_count": 1,
   "metadata": {},
   "outputs": [],
   "source": [
    "import numpy as np\n",
    "\n",
    "data = np.load('monthdata.npz')\n",
    "totals = data['totals']\n",
    "counts = data['counts']"
   ]
  },
  {
   "cell_type": "code",
   "execution_count": 2,
   "metadata": {},
   "outputs": [
    {
     "name": "stdout",
     "output_type": "stream",
     "text": [
      "Row with lowest total precipitation:\n"
     ]
    },
    {
     "data": {
      "text/plain": [
       "8"
      ]
     },
     "execution_count": 2,
     "metadata": {},
     "output_type": "execute_result"
    }
   ],
   "source": [
    "print('Row with lowest total precipitation:')\n",
    "np.argmin(np.sum(totals, axis = 1))"
   ]
  },
  {
   "cell_type": "code",
   "execution_count": 3,
   "metadata": {},
   "outputs": [
    {
     "name": "stdout",
     "output_type": "stream",
     "text": [
      "Average precipitation in each month:\n"
     ]
    },
    {
     "data": {
      "text/plain": [
       "array([27.77978339, 30.42629482, 29.41007194, 17.96654275, 21.34456929,\n",
       "       20.69498069, 24.97718631, 19.85661765, 24.06563707, 44.68441065,\n",
       "       34.61568627, 32.36679537])"
      ]
     },
     "execution_count": 3,
     "metadata": {},
     "output_type": "execute_result"
    }
   ],
   "source": [
    "print('Average precipitation in each month:')\n",
    "np.sum(totals, axis = 0) / np.sum(counts, axis = 0)"
   ]
  },
  {
   "cell_type": "code",
   "execution_count": 4,
   "metadata": {},
   "outputs": [
    {
     "name": "stdout",
     "output_type": "stream",
     "text": [
      "Average precipitation in each city:\n"
     ]
    },
    {
     "data": {
      "text/plain": [
       "array([47.77859779, 14.33333333, 39.91232877, 41.44505495, 23.4099723 ,\n",
       "       23.68144044, 17.52197802, 36.52222222,  6.15426997])"
      ]
     },
     "execution_count": 4,
     "metadata": {},
     "output_type": "execute_result"
    }
   ],
   "source": [
    "print('Average precipitation in each city:')\n",
    "np.sum(totals, axis = 1) / np.sum(counts, axis = 1)"
   ]
  },
  {
   "cell_type": "code",
   "execution_count": 5,
   "metadata": {},
   "outputs": [
    {
     "name": "stdout",
     "output_type": "stream",
     "text": [
      "Quarterly precipitation totals:\n"
     ]
    },
    {
     "data": {
      "text/plain": [
       "array([[5450, 1408, 1466, 4624],\n",
       "       [ 189, 1339, 3148,  527],\n",
       "       [3120, 3357, 3386, 4705],\n",
       "       [4416, 3321, 2024, 5325],\n",
       "       [2024, 1498, 1721, 3208],\n",
       "       [1786, 1809, 2557, 2397],\n",
       "       [1583, 1296, 1729, 1770],\n",
       "       [4602, 1340, 1250, 5956],\n",
       "       [ 338,  524,  922,  450]])"
      ]
     },
     "execution_count": 5,
     "metadata": {},
     "output_type": "execute_result"
    }
   ],
   "source": [
    "print('Quarterly precipitation totals:')\n",
    "np.sum(np.reshape(totals, (-1, 4, 3)), axis = 2)"
   ]
  }
 ],
 "metadata": {
  "kernelspec": {
   "display_name": "Python 3",
   "language": "python",
   "name": "python3"
  },
  "language_info": {
   "codemirror_mode": {
    "name": "ipython",
    "version": 3
   },
   "file_extension": ".py",
   "mimetype": "text/x-python",
   "name": "python",
   "nbconvert_exporter": "python",
   "pygments_lexer": "ipython3",
   "version": "3.7.2"
  }
 },
 "nbformat": 4,
 "nbformat_minor": 2
}
